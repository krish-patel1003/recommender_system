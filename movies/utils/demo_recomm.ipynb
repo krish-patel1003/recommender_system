{
 "cells": [
  {
   "cell_type": "code",
   "execution_count": null,
   "metadata": {},
   "outputs": [],
   "source": [
    "%pip install numpy"
   ]
  },
  {
   "cell_type": "code",
   "execution_count": 1,
   "metadata": {},
   "outputs": [
    {
     "name": "stdout",
     "output_type": "stream",
     "text": [
      "{'User1': {'Item15': 4, 'Item7': 1, 'Item11': 1, 'Item10': 1, 'Item6': 3, 'Item3': 4, 'Item2': 3, 'Item1': 1}, 'User2': {'Item8': 1, 'Item4': 5, 'Item7': 3, 'Item11': 5, 'Item14': 2, 'Item6': 2, 'Item9': 5, 'Item5': 1, 'Item10': 4, 'Item1': 3, 'Item12': 3, 'Item2': 1, 'Item3': 5, 'Item15': 2}, 'User3': {'Item5': 5, 'Item14': 1, 'Item8': 2, 'Item11': 1, 'Item12': 4, 'Item1': 5, 'Item7': 4, 'Item9': 1, 'Item15': 2, 'Item10': 2, 'Item6': 1}, 'User4': {'Item8': 5, 'Item14': 3, 'Item11': 1, 'Item7': 4, 'Item9': 1, 'Item4': 2, 'Item2': 1}, 'User5': {'Item6': 2, 'Item3': 3, 'Item12': 3, 'Item2': 4, 'Item1': 3, 'Item13': 1, 'Item15': 5, 'Item10': 2, 'Item5': 5, 'Item14': 4}, 'User6': {'Item15': 2, 'Item11': 2, 'Item7': 3, 'Item3': 5, 'Item1': 3, 'Item5': 4, 'Item13': 3, 'Item14': 1, 'Item6': 3, 'Item8': 1, 'Item12': 1, 'Item4': 3, 'Item10': 5}, 'User7': {'Item6': 3, 'Item14': 1, 'Item5': 5, 'Item10': 1, 'Item7': 1, 'Item4': 4, 'Item2': 5, 'Item12': 4, 'Item13': 4, 'Item15': 2, 'Item8': 4, 'Item1': 4, 'Item3': 3, 'Item9': 5, 'Item11': 2}, 'User8': {'Item5': 1, 'Item11': 2, 'Item8': 2, 'Item7': 1, 'Item15': 3, 'Item4': 5, 'Item13': 4, 'Item1': 3, 'Item10': 2, 'Item6': 2}, 'User9': {'Item3': 5, 'Item5': 4, 'Item4': 4, 'Item14': 1, 'Item9': 5, 'Item1': 3, 'Item7': 1, 'Item13': 3, 'Item2': 1, 'Item10': 1, 'Item6': 3, 'Item15': 3, 'Item12': 3, 'Item11': 3, 'Item8': 3}, 'User10': {'Item7': 1, 'Item10': 4, 'Item14': 1, 'Item12': 5, 'Item13': 1, 'Item11': 1, 'Item3': 4, 'Item15': 2, 'Item9': 1}, 'User11': {'Item14': 4, 'Item15': 3, 'Item13': 3, 'Item2': 2, 'Item3': 2, 'Item10': 2, 'Item9': 4, 'Item4': 5, 'Item1': 5, 'Item12': 5, 'Item11': 2, 'Item6': 2}}\n",
      "['Item1', 'Item2', 'Item3', 'Item4', 'Item5', 'Item6', 'Item7', 'Item8', 'Item9', 'Item10', 'Item11', 'Item12', 'Item13', 'Item14', 'Item15']\n",
      "['User1', 'User2', 'User3', 'User4', 'User5', 'User6', 'User7', 'User8', 'User9', 'User10', 'User11']\n",
      "[[1. 3. 4. 0. 0. 3. 1. 0. 0. 1. 1. 0. 0. 0. 4.]\n",
      " [3. 1. 5. 5. 1. 2. 3. 1. 5. 4. 5. 3. 0. 2. 2.]\n",
      " [5. 0. 0. 0. 5. 1. 4. 2. 1. 2. 1. 4. 0. 1. 2.]\n",
      " [0. 1. 0. 2. 0. 0. 4. 5. 1. 0. 1. 0. 0. 3. 0.]\n",
      " [3. 4. 3. 0. 5. 2. 0. 0. 0. 2. 0. 3. 1. 4. 5.]\n",
      " [3. 0. 5. 3. 4. 3. 3. 1. 0. 5. 2. 1. 3. 1. 2.]\n",
      " [4. 5. 3. 4. 5. 3. 1. 4. 5. 1. 2. 4. 4. 1. 2.]\n",
      " [3. 0. 0. 5. 1. 2. 1. 2. 0. 2. 2. 0. 4. 0. 3.]\n",
      " [3. 1. 5. 4. 4. 3. 1. 3. 5. 1. 3. 3. 3. 1. 3.]\n",
      " [0. 0. 4. 0. 0. 0. 1. 0. 1. 4. 1. 5. 1. 1. 2.]\n",
      " [5. 2. 2. 5. 0. 2. 0. 0. 4. 2. 2. 5. 3. 4. 3.]]\n"
     ]
    }
   ],
   "source": [
    "import numpy as np\n",
    "import random\n",
    "import math\n",
    "\n",
    "# Define the number of users and items\n",
    "num_users = 11\n",
    "num_items = 15\n",
    "min_items_rated = 5\n",
    "\n",
    "# Generate random user ratings\n",
    "user_ratings = {}\n",
    "# for user_id in range(1, num_users + 1):\n",
    "#     user_ratings[f'User{user_id}'] = {f'Item{i}': random.randint(1, 5) for i in range(1, random.randint(1, num_items + 1))}\n",
    "for user_id in range(1, num_users + 1):\n",
    "    num_rated_items = random.randint(min_items_rated, num_items)\n",
    "    rated_items = random.sample(range(1, num_items + 1), num_rated_items)\n",
    "    user_ratings[f'User{user_id}'] = {f'Item{i}': random.randint(1, 5) for i in rated_items}\n",
    "\n",
    "\n",
    "print(user_ratings)\n",
    "# Get unique items sorted\n",
    "items = sorted(list(set([item for user in user_ratings for item in user_ratings[user]])), key=lambda x: int(x[4:]))\n",
    "print(items)\n",
    "\n",
    "# Get unique users\n",
    "users = sorted(list(user_ratings.keys()), key=lambda x: int(x[4:]))\n",
    "print(users)\n",
    "\n",
    "# Create matrix\n",
    "matrix = np.zeros((num_users, num_items))\n",
    "\n",
    "# Fill in the matrix with ratings\n",
    "for i, user in enumerate(users):\n",
    "    for j, item in enumerate(items):\n",
    "        if item in user_ratings[user]:\n",
    "            matrix[i, j] = user_ratings[user][item]\n",
    "\n",
    "print(matrix)\n"
   ]
  },
  {
   "cell_type": "code",
   "execution_count": 41,
   "metadata": {},
   "outputs": [],
   "source": [
    "# Oriented towards the user\n",
    "def find_k_nearest_neighbors(matrix, user_id, k):\n",
    "    # Find the user's row\n",
    "    user_index = users.index(user_id)\n",
    "    user_row = matrix[user_index]\n",
    "\n",
    "    # Calculate the similarities using MSD\n",
    "    similarities = []\n",
    "\n",
    "    for i, other_row in enumerate(matrix):\n",
    "        if i == user_index:\n",
    "            continue\n",
    "        similarity = round(np.sum((user_row - other_row) ** 2)/len(user_row), 2)\n",
    "        similarities.append((i, similarity))\n",
    "\n",
    "\n",
    "    print(\"Similarities: \", similarities)\n",
    "\n",
    "    # Sort the similarities and get the index of top k\n",
    "    similarities.sort(key=lambda x: x[1])\n",
    "    neighbors = similarities[:k]\n",
    "\n",
    "    return neighbors"
   ]
  },
  {
   "cell_type": "code",
   "execution_count": 44,
   "metadata": {},
   "outputs": [],
   "source": [
    "user_id = \"User4\" \n",
    "k = 3"
   ]
  },
  {
   "cell_type": "code",
   "execution_count": 45,
   "metadata": {},
   "outputs": [
    {
     "name": "stdout",
     "output_type": "stream",
     "text": [
      "Similarities:  [(0, 9.27), (1, 10.47), (2, 7.67), (4, 8.4), (5, 5.73), (6, 10.07), (7, 9.0), (8, 4.47), (9, 7.6), (10, 10.27)]\n",
      "Neighbors:  [(8, 4.47), (5, 5.73), (9, 7.6)]\n",
      "User4: [2. 0. 0. 4. 0. 0. 5. 1. 0. 3. 0. 1. 1. 5. 3.]\n",
      "Neighbor 8: [1. 1. 2. 5. 3. 1. 2. 3. 3. 2. 3. 3. 3. 2. 2.]\n",
      "Neighbor 5: [2. 1. 0. 0. 1. 5. 4. 5. 4. 1. 0. 0. 3. 5. 2.]\n",
      "Neighbor 9: [0. 4. 5. 3. 0. 3. 1. 2. 4. 2. 0. 2. 5. 3. 5.]\n"
     ]
    }
   ],
   "source": [
    "neighbors = find_k_nearest_neighbors(matrix, user_id, k)\n",
    "print(\"Neighbors: \", neighbors)\n",
    "\n",
    "print(f\"{user_id}:\", matrix[users.index(user_id)])\n",
    "for neighbor, _ in neighbors:\n",
    "    print(f\"Neighbor {neighbor}:\", matrix[neighbor])\n"
   ]
  },
  {
   "cell_type": "code",
   "execution_count": 46,
   "metadata": {},
   "outputs": [],
   "source": [
    "# find Aggregate rating of unrated items\n",
    "def find_aggregate_ratings(matrix, user_id, k):\n",
    "    # Find the user's row\n",
    "    user_index = users.index(user_id)\n",
    "    user_row = matrix[user_index]\n",
    "\n",
    "    # Find the k nearest neighbors\n",
    "    neighbors = find_k_nearest_neighbors(matrix, user_id, k)\n",
    "\n",
    "    # Find the unrated items\n",
    "    unrated_items = np.where(user_row == 0)[0]\n",
    "    print(\"Unrated items: \", unrated_items)\n",
    "\n",
    "    # Calculate the aggregate ratings\n",
    "    aggregate_ratings = []\n",
    "\n",
    "    for item in unrated_items:\n",
    "        ratings = []\n",
    "        for neighbor, _ in neighbors:\n",
    "            if matrix[neighbor, item] != 0:\n",
    "                ratings.append(matrix[neighbor, item])\n",
    "        if ratings:\n",
    "            aggregate_rating = round(np.mean(ratings), 2)\n",
    "            aggregate_ratings.append((item, aggregate_rating))\n",
    "    \n",
    "    return aggregate_ratings"
   ]
  },
  {
   "cell_type": "code",
   "execution_count": 49,
   "metadata": {},
   "outputs": [
    {
     "name": "stdout",
     "output_type": "stream",
     "text": [
      "Similarities:  [(0, 9.27), (1, 10.47), (2, 7.67), (4, 8.4), (5, 5.73), (6, 10.07), (7, 9.0), (8, 4.47), (9, 7.6), (10, 10.27)]\n",
      "Unrated items:  [ 1  2  4  5  8 10]\n",
      "[(1, 2.0), (2, 3.5), (4, 2.0), (5, 3.0), (8, 3.67), (10, 3.0)]\n"
     ]
    }
   ],
   "source": [
    "print(find_aggregate_ratings(matrix, user_id, 3))"
   ]
  },
  {
   "cell_type": "code",
   "execution_count": 62,
   "metadata": {},
   "outputs": [],
   "source": [
    "def find_aggregate_ratings_by_weighted_sum(matrix, user_id, k):\n",
    "    # Find the user's row\n",
    "    user_index = users.index(user_id)\n",
    "    user_row = matrix[user_index]\n",
    "\n",
    "    # Find the k nearest neighbors\n",
    "    neighbors = find_k_nearest_neighbors(matrix, user_id, k)\n",
    "\n",
    "    # Find the unrated items\n",
    "    unrated_items = np.where(user_row == 0)[0]\n",
    "    print(\"Unrated items: \", unrated_items)\n",
    "\n",
    "    # Calculate the aggregate ratings\n",
    "    aggregate_ratings = []\n",
    "\n",
    "    for item in unrated_items:\n",
    "        ratings = []\n",
    "        weights = []\n",
    "        for neightbor, similarity in neighbors:\n",
    "            if matrix[neightbor, item] != 0:\n",
    "                # print(neighbor, matrix[neightbor, item])\n",
    "                ratings.append(matrix[neightbor, item])\n",
    "                weights.append(similarity)\n",
    "        if ratings:\n",
    "            aggregate_rating = round(np.sum([rating * weight for rating, weight in zip(ratings, weights)])/sum(weights), 2)\n",
    "            aggregate_ratings.append((item, aggregate_rating))\n",
    "            \n",
    "    return aggregate_ratings"
   ]
  },
  {
   "cell_type": "code",
   "execution_count": 63,
   "metadata": {},
   "outputs": [
    {
     "name": "stdout",
     "output_type": "stream",
     "text": [
      "Similarities:  [(0, 9.27), (1, 10.47), (2, 7.67), (4, 8.4), (5, 5.73), (6, 10.07), (7, 9.0), (8, 4.47), (9, 7.6), (10, 10.27)]\n",
      "Unrated items:  [ 1  2  4  5  8 10]\n",
      "[(1, 2.28), (2, 3.89), (4, 1.88), (5, 3.14), (8, 3.75), (10, 3.0)]\n"
     ]
    }
   ],
   "source": [
    "print(find_aggregate_ratings_by_weighted_sum(matrix, user_id, 3))"
   ]
  },
  {
   "cell_type": "code",
   "execution_count": 32,
   "metadata": {},
   "outputs": [],
   "source": [
    "item_id = \"Item1\"\n",
    "k = 3"
   ]
  },
  {
   "cell_type": "code",
   "execution_count": 33,
   "metadata": {},
   "outputs": [],
   "source": [
    "# Oriented towards the item\n",
    "def find_k_nearest_neighbors_item(matrix, item_id, k):\n",
    "    # Find the item's column\n",
    "    item_index = items.index(item_id)\n",
    "    item_column = matrix[:, item_index]\n",
    "\n",
    "    # Calculate the similarities using MSD\n",
    "    similarities = []\n",
    "\n",
    "    for i, other_column in enumerate(matrix.T):\n",
    "        if i == item_index:\n",
    "            continue\n",
    "        similarity = round(np.sum((item_column - other_column) ** 2)/len(item_column), 2)\n",
    "        similarities.append((i, similarity))\n",
    "\n",
    "    print(\"Similarities: \", similarities)\n",
    "\n",
    "    # Sort the similarities and get the index of top k\n",
    "    similarities.sort(key=lambda x: x[1])\n",
    "    neighbors = similarities[:k]\n",
    "\n",
    "    return neighbors"
   ]
  },
  {
   "cell_type": "code",
   "execution_count": 35,
   "metadata": {},
   "outputs": [
    {
     "name": "stdout",
     "output_type": "stream",
     "text": [
      "Similarities:  [(1, 4.0), (2, 4.0), (3, 2.27), (4, 5.73), (5, 6.64), (6, 5.73), (7, 3.82), (8, 4.18), (9, 7.55), (10, 2.27), (11, 5.27), (12, 8.18), (13, 2.45), (14, 4.91)]\n",
      "Neighbors:  [(3, 2.27), (10, 2.27), (13, 2.45)]\n",
      "Item1: [2. 1. 0. 5. 0. 0. 3. 3. 3. 2. 4.]\n",
      "Neighbor 3: [0. 2. 1. 5. 1. 0. 2. 3. 0. 0. 2.]\n",
      "Neighbor 10: [0. 1. 0. 3. 0. 0. 5. 1. 5. 0. 5.]\n",
      "Neighbor 13: [0. 3. 2. 5. 0. 0. 5. 4. 0. 2. 3.]\n"
     ]
    }
   ],
   "source": [
    "neighbors = find_k_nearest_neighbors_item(matrix, item_id, k)\n",
    "print(\"Neighbors: \", neighbors)\n",
    "\n",
    "print(f\"{item_id}:\", matrix[:, items.index(item_id)])\n",
    "for neighbor, _ in neighbors:\n",
    "    print(f\"Neighbor {neighbor}:\", matrix[:, neighbor])"
   ]
  },
  {
   "cell_type": "code",
   "execution_count": 36,
   "metadata": {},
   "outputs": [],
   "source": [
    "def find_aggregate_ratings_item(matrix, item_id, k):\n",
    "    # Find the item's column\n",
    "    item_index = items.index(item_id)\n",
    "    item_column = matrix[:, item_index]\n",
    "\n",
    "    # Find the k nearest neighbors\n",
    "    neighbors = find_k_nearest_neighbors_item(matrix, item_id, k)\n",
    "\n",
    "    # Find the unrated users\n",
    "    unrated_users = np.where(item_column == 0)[0]\n",
    "    print(\"Unrated users: \", unrated_users)\n",
    "\n",
    "    # Calculate the aggregate ratings\n",
    "    aggregate_ratings = []\n",
    "\n",
    "    for user in unrated_users:\n",
    "        ratings = []\n",
    "        for neighbor, _ in neighbors:\n",
    "            if matrix[user, neighbor] != 0:\n",
    "                ratings.append(matrix[user, neighbor])\n",
    "        if ratings:\n",
    "            aggregate_rating = round(np.mean(ratings), 2)\n",
    "            aggregate_ratings.append((user, aggregate_rating))\n",
    "    \n",
    "    return aggregate_ratings"
   ]
  },
  {
   "cell_type": "code",
   "execution_count": 37,
   "metadata": {},
   "outputs": [
    {
     "name": "stdout",
     "output_type": "stream",
     "text": [
      "Similarities:  [(1, 4.0), (2, 4.0), (3, 2.27), (4, 5.73), (5, 6.64), (6, 5.73), (7, 3.82), (8, 4.18), (9, 7.55), (10, 2.27), (11, 5.27), (12, 8.18), (13, 2.45), (14, 4.91)]\n",
      "Unrated users:  [2 4 5]\n",
      "[(2, 1.5), (4, 1.0)]\n"
     ]
    }
   ],
   "source": [
    "print(find_aggregate_ratings_item(matrix, 'Item1', 3))"
   ]
  },
  {
   "cell_type": "code",
   "execution_count": null,
   "metadata": {},
   "outputs": [],
   "source": []
  }
 ],
 "metadata": {
  "kernelspec": {
   "display_name": "venv",
   "language": "python",
   "name": "python3"
  },
  "language_info": {
   "codemirror_mode": {
    "name": "ipython",
    "version": 3
   },
   "file_extension": ".py",
   "mimetype": "text/x-python",
   "name": "python",
   "nbconvert_exporter": "python",
   "pygments_lexer": "ipython3",
   "version": "3.11.5"
  }
 },
 "nbformat": 4,
 "nbformat_minor": 2
}
